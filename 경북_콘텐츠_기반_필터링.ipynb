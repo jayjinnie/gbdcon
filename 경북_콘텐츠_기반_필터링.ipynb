{
  "nbformat": 4,
  "nbformat_minor": 0,
  "metadata": {
    "colab": {
      "name": "경북_콘텐츠 기반 필터링.ipynb",
      "provenance": [],
      "collapsed_sections": [],
      "authorship_tag": "ABX9TyPLjBnxsZDoWd85gGzqax7g",
      "include_colab_link": true
    },
    "kernelspec": {
      "name": "python3",
      "display_name": "Python 3"
    },
    "language_info": {
      "name": "python"
    }
  },
  "cells": [
    {
      "cell_type": "markdown",
      "metadata": {
        "id": "view-in-github",
        "colab_type": "text"
      },
      "source": [
        "<a href=\"https://colab.research.google.com/github/jayjinnie/gbdcon/blob/main/%EA%B2%BD%EB%B6%81_%EC%BD%98%ED%85%90%EC%B8%A0_%EA%B8%B0%EB%B0%98_%ED%95%84%ED%84%B0%EB%A7%81.ipynb\" target=\"_parent\"><img src=\"https://colab.research.google.com/assets/colab-badge.svg\" alt=\"Open In Colab\"/></a>"
      ]
    },
    {
      "cell_type": "markdown",
      "metadata": {
        "id": "LSxH3yzufsJS"
      },
      "source": [
        "# 필요한 parameter\n",
        "##### 상품코드 | 기본분류(1차+2차+3차, 이벤트상품 제외) | 분류명 | 상품유형 | 상품명 | 제조사 | 판매가격 | 기본배송비 | 조회수 | 판매수량 | 업체ID \n",
        "#### 이용자가 관심있는/선호하는 상품유형, 판매가격, 기본배송비 데이터를 수집하여,\n",
        "#### 판매가격, 기본배송비 필터링 (설정한 판매가격, 기본배송비 범위 내여야 함)\n",
        "#### 상품유형, 제조사, 업체ID가 유사한 상품을 추천하기"
      ]
    },
    {
      "cell_type": "code",
      "metadata": {
        "id": "DsQ2cgGLewoR"
      },
      "source": [
        "import pandas as pd"
      ],
      "execution_count": null,
      "outputs": []
    },
    {
      "cell_type": "code",
      "metadata": {
        "colab": {
          "base_uri": "https://localhost:8080/",
          "height": 202
        },
        "id": "M1vbme_hmTzZ",
        "outputId": "dc8d9cac-e9aa-47e1-9f56-407fa873c141"
      },
      "source": [
        "contents = pd.read_excel(\"콘텐츠 테이블.xlsx\")\n",
        "contents.head()"
      ],
      "execution_count": null,
      "outputs": [
        {
          "output_type": "execute_result",
          "data": {
            "text/html": [
              "<div>\n",
              "<style scoped>\n",
              "    .dataframe tbody tr th:only-of-type {\n",
              "        vertical-align: middle;\n",
              "    }\n",
              "\n",
              "    .dataframe tbody tr th {\n",
              "        vertical-align: top;\n",
              "    }\n",
              "\n",
              "    .dataframe thead th {\n",
              "        text-align: right;\n",
              "    }\n",
              "</style>\n",
              "<table border=\"1\" class=\"dataframe\">\n",
              "  <thead>\n",
              "    <tr style=\"text-align: right;\">\n",
              "      <th></th>\n",
              "      <th>상품코드</th>\n",
              "      <th>기본분류</th>\n",
              "      <th>분류명</th>\n",
              "      <th>상품유형</th>\n",
              "      <th>상품명</th>\n",
              "      <th>제조사</th>\n",
              "      <th>판매가격</th>\n",
              "      <th>기본배송비</th>\n",
              "      <th>조회수</th>\n",
              "      <th>판매수량</th>\n",
              "      <th>업체ID</th>\n",
              "    </tr>\n",
              "  </thead>\n",
              "  <tbody>\n",
              "    <tr>\n",
              "      <th>0</th>\n",
              "      <td>157092753</td>\n",
              "      <td>201030</td>\n",
              "      <td>곶감/반건시/감말랭이</td>\n",
              "      <td>NaN</td>\n",
              "      <td>[상주전통곶감] 전통곶감 건시 4kg(65~70과)</td>\n",
              "      <td>상주전통곶감</td>\n",
              "      <td>89000</td>\n",
              "      <td>0</td>\n",
              "      <td>0</td>\n",
              "      <td>0</td>\n",
              "      <td>d3f908bbea5d2d7cac866508dff9b2ffdf0088ab55d178...</td>\n",
              "    </tr>\n",
              "    <tr>\n",
              "      <th>1</th>\n",
              "      <td>1578008979</td>\n",
              "      <td>201030</td>\n",
              "      <td>곶감/반건시/감말랭이</td>\n",
              "      <td>농산물</td>\n",
              "      <td>[구릿뜰농원] 건시3호 48구</td>\n",
              "      <td>구릿뜰농원</td>\n",
              "      <td>55000</td>\n",
              "      <td>4000</td>\n",
              "      <td>130</td>\n",
              "      <td>0</td>\n",
              "      <td>b4f5eabe0dd4a2502f409f9710682f72bbbc79de195121...</td>\n",
              "    </tr>\n",
              "    <tr>\n",
              "      <th>2</th>\n",
              "      <td>1578031964</td>\n",
              "      <td>201030</td>\n",
              "      <td>곶감/반건시/감말랭이</td>\n",
              "      <td>농산물</td>\n",
              "      <td>[구릿뜰농원] 건시4호 36구</td>\n",
              "      <td>구릿뜰농원</td>\n",
              "      <td>45000</td>\n",
              "      <td>4000</td>\n",
              "      <td>223</td>\n",
              "      <td>1</td>\n",
              "      <td>b4f5eabe0dd4a2502f409f9710682f72bbbc79de195121...</td>\n",
              "    </tr>\n",
              "    <tr>\n",
              "      <th>3</th>\n",
              "      <td>1578034429</td>\n",
              "      <td>201030</td>\n",
              "      <td>곶감/반건시/감말랭이</td>\n",
              "      <td>농산물</td>\n",
              "      <td>[구릿뜰농원] 건시 낱개 포장 30구</td>\n",
              "      <td>구릿뜰농원</td>\n",
              "      <td>40000</td>\n",
              "      <td>4000</td>\n",
              "      <td>141</td>\n",
              "      <td>0</td>\n",
              "      <td>b4f5eabe0dd4a2502f409f9710682f72bbbc79de195121...</td>\n",
              "    </tr>\n",
              "    <tr>\n",
              "      <th>4</th>\n",
              "      <td>1578034546</td>\n",
              "      <td>201030</td>\n",
              "      <td>곶감/반건시/감말랭이</td>\n",
              "      <td>농산물</td>\n",
              "      <td>[구릿뜰농원] 건시 낱개 포장1호</td>\n",
              "      <td>구릿뜰농원</td>\n",
              "      <td>30000</td>\n",
              "      <td>4000</td>\n",
              "      <td>136</td>\n",
              "      <td>0</td>\n",
              "      <td>b4f5eabe0dd4a2502f409f9710682f72bbbc79de195121...</td>\n",
              "    </tr>\n",
              "  </tbody>\n",
              "</table>\n",
              "</div>"
            ],
            "text/plain": [
              "         상품코드    기본분류  ... 판매수량                                               업체ID\n",
              "0   157092753  201030  ...    0  d3f908bbea5d2d7cac866508dff9b2ffdf0088ab55d178...\n",
              "1  1578008979  201030  ...    0  b4f5eabe0dd4a2502f409f9710682f72bbbc79de195121...\n",
              "2  1578031964  201030  ...    1  b4f5eabe0dd4a2502f409f9710682f72bbbc79de195121...\n",
              "3  1578034429  201030  ...    0  b4f5eabe0dd4a2502f409f9710682f72bbbc79de195121...\n",
              "4  1578034546  201030  ...    0  b4f5eabe0dd4a2502f409f9710682f72bbbc79de195121...\n",
              "\n",
              "[5 rows x 11 columns]"
            ]
          },
          "metadata": {
            "tags": []
          },
          "execution_count": 7
        }
      ]
    },
    {
      "cell_type": "markdown",
      "metadata": {
        "id": "6Ak5vz-PsCku"
      },
      "source": [
        "# weighted rating을 위한 '조회수' '판매수량' 칼럼 EDA"
      ]
    },
    {
      "cell_type": "code",
      "metadata": {
        "colab": {
          "base_uri": "https://localhost:8080/",
          "height": 294
        },
        "id": "rcT6pLKup96l",
        "outputId": "41658f01-06f3-4a91-a871-6ee5d5c3e1d9"
      },
      "source": [
        "contents.describe()"
      ],
      "execution_count": null,
      "outputs": [
        {
          "output_type": "execute_result",
          "data": {
            "text/html": [
              "<div>\n",
              "<style scoped>\n",
              "    .dataframe tbody tr th:only-of-type {\n",
              "        vertical-align: middle;\n",
              "    }\n",
              "\n",
              "    .dataframe tbody tr th {\n",
              "        vertical-align: top;\n",
              "    }\n",
              "\n",
              "    .dataframe thead th {\n",
              "        text-align: right;\n",
              "    }\n",
              "</style>\n",
              "<table border=\"1\" class=\"dataframe\">\n",
              "  <thead>\n",
              "    <tr style=\"text-align: right;\">\n",
              "      <th></th>\n",
              "      <th>상품코드</th>\n",
              "      <th>판매가격</th>\n",
              "      <th>기본배송비</th>\n",
              "      <th>조회수</th>\n",
              "      <th>판매수량</th>\n",
              "    </tr>\n",
              "  </thead>\n",
              "  <tbody>\n",
              "    <tr>\n",
              "      <th>count</th>\n",
              "      <td>3.129000e+03</td>\n",
              "      <td>3.129000e+03</td>\n",
              "      <td>3129.000000</td>\n",
              "      <td>3129.000000</td>\n",
              "      <td>3129.000000</td>\n",
              "    </tr>\n",
              "    <tr>\n",
              "      <th>mean</th>\n",
              "      <td>1.595076e+09</td>\n",
              "      <td>1.232850e+05</td>\n",
              "      <td>1892.553531</td>\n",
              "      <td>428.522851</td>\n",
              "      <td>22.961649</td>\n",
              "    </tr>\n",
              "    <tr>\n",
              "      <th>std</th>\n",
              "      <td>2.695284e+07</td>\n",
              "      <td>1.885154e+06</td>\n",
              "      <td>1686.428119</td>\n",
              "      <td>601.546638</td>\n",
              "      <td>162.884518</td>\n",
              "    </tr>\n",
              "    <tr>\n",
              "      <th>min</th>\n",
              "      <td>1.570928e+08</td>\n",
              "      <td>0.000000e+00</td>\n",
              "      <td>0.000000</td>\n",
              "      <td>0.000000</td>\n",
              "      <td>0.000000</td>\n",
              "    </tr>\n",
              "    <tr>\n",
              "      <th>25%</th>\n",
              "      <td>1.589525e+09</td>\n",
              "      <td>1.500000e+04</td>\n",
              "      <td>0.000000</td>\n",
              "      <td>145.000000</td>\n",
              "      <td>0.000000</td>\n",
              "    </tr>\n",
              "    <tr>\n",
              "      <th>50%</th>\n",
              "      <td>1.597899e+09</td>\n",
              "      <td>2.500000e+04</td>\n",
              "      <td>3000.000000</td>\n",
              "      <td>297.000000</td>\n",
              "      <td>2.000000</td>\n",
              "    </tr>\n",
              "    <tr>\n",
              "      <th>75%</th>\n",
              "      <td>1.601017e+09</td>\n",
              "      <td>4.200000e+04</td>\n",
              "      <td>3000.000000</td>\n",
              "      <td>506.000000</td>\n",
              "      <td>12.000000</td>\n",
              "    </tr>\n",
              "    <tr>\n",
              "      <th>max</th>\n",
              "      <td>1.609378e+09</td>\n",
              "      <td>7.620000e+07</td>\n",
              "      <td>25000.000000</td>\n",
              "      <td>8573.000000</td>\n",
              "      <td>5689.000000</td>\n",
              "    </tr>\n",
              "  </tbody>\n",
              "</table>\n",
              "</div>"
            ],
            "text/plain": [
              "               상품코드          판매가격         기본배송비          조회수         판매수량\n",
              "count  3.129000e+03  3.129000e+03   3129.000000  3129.000000  3129.000000\n",
              "mean   1.595076e+09  1.232850e+05   1892.553531   428.522851    22.961649\n",
              "std    2.695284e+07  1.885154e+06   1686.428119   601.546638   162.884518\n",
              "min    1.570928e+08  0.000000e+00      0.000000     0.000000     0.000000\n",
              "25%    1.589525e+09  1.500000e+04      0.000000   145.000000     0.000000\n",
              "50%    1.597899e+09  2.500000e+04   3000.000000   297.000000     2.000000\n",
              "75%    1.601017e+09  4.200000e+04   3000.000000   506.000000    12.000000\n",
              "max    1.609378e+09  7.620000e+07  25000.000000  8573.000000  5689.000000"
            ]
          },
          "metadata": {
            "tags": []
          },
          "execution_count": 8
        }
      ]
    },
    {
      "cell_type": "code",
      "metadata": {
        "colab": {
          "base_uri": "https://localhost:8080/"
        },
        "id": "Ysy6DLbWqos9",
        "outputId": "952cf871-9168-4d1b-b269-48e8f0b5d380"
      },
      "source": [
        "contents.info()"
      ],
      "execution_count": null,
      "outputs": [
        {
          "output_type": "stream",
          "text": [
            "<class 'pandas.core.frame.DataFrame'>\n",
            "RangeIndex: 3129 entries, 0 to 3128\n",
            "Data columns (total 11 columns):\n",
            " #   Column  Non-Null Count  Dtype \n",
            "---  ------  --------------  ----- \n",
            " 0   상품코드    3129 non-null   int64 \n",
            " 1   기본분류    3129 non-null   object\n",
            " 2   분류명     3129 non-null   object\n",
            " 3   상품유형    2785 non-null   object\n",
            " 4   상품명     3129 non-null   object\n",
            " 5   제조사     3065 non-null   object\n",
            " 6   판매가격    3129 non-null   int64 \n",
            " 7   기본배송비   3129 non-null   int64 \n",
            " 8   조회수     3129 non-null   int64 \n",
            " 9   판매수량    3129 non-null   int64 \n",
            " 10  업체ID    3129 non-null   object\n",
            "dtypes: int64(5), object(6)\n",
            "memory usage: 269.0+ KB\n"
          ],
          "name": "stdout"
        }
      ]
    },
    {
      "cell_type": "code",
      "metadata": {
        "colab": {
          "base_uri": "https://localhost:8080/"
        },
        "id": "f2o35Fi7x6be",
        "outputId": "7ff97e20-3fd4-4528-94be-9debbc0d3eff"
      },
      "source": [
        "print(contents.isnull().sum())"
      ],
      "execution_count": null,
      "outputs": [
        {
          "output_type": "stream",
          "text": [
            "상품코드       0\n",
            "기본분류       0\n",
            "분류명        0\n",
            "상품유형     344\n",
            "상품명        0\n",
            "제조사       64\n",
            "판매가격       0\n",
            "기본배송비      0\n",
            "조회수        0\n",
            "판매수량       0\n",
            "업체ID       0\n",
            "dtype: int64\n"
          ],
          "name": "stdout"
        }
      ]
    },
    {
      "cell_type": "code",
      "metadata": {
        "colab": {
          "base_uri": "https://localhost:8080/"
        },
        "id": "Bs2OyDvEqsid",
        "outputId": "d159ed6d-1b81-4024-f635-d061af463871"
      },
      "source": [
        "contents[\"상품코드\"] = contents[\"상품코드\"].astype(\"object\")\n",
        "contents.info()"
      ],
      "execution_count": null,
      "outputs": [
        {
          "output_type": "stream",
          "text": [
            "<class 'pandas.core.frame.DataFrame'>\n",
            "RangeIndex: 3129 entries, 0 to 3128\n",
            "Data columns (total 11 columns):\n",
            " #   Column  Non-Null Count  Dtype \n",
            "---  ------  --------------  ----- \n",
            " 0   상품코드    3129 non-null   object\n",
            " 1   기본분류    3129 non-null   object\n",
            " 2   분류명     3129 non-null   object\n",
            " 3   상품유형    2785 non-null   object\n",
            " 4   상품명     3129 non-null   object\n",
            " 5   제조사     3065 non-null   object\n",
            " 6   판매가격    3129 non-null   int64 \n",
            " 7   기본배송비   3129 non-null   int64 \n",
            " 8   조회수     3129 non-null   int64 \n",
            " 9   판매수량    3129 non-null   int64 \n",
            " 10  업체ID    3129 non-null   object\n",
            "dtypes: int64(4), object(7)\n",
            "memory usage: 269.0+ KB\n"
          ],
          "name": "stdout"
        }
      ]
    },
    {
      "cell_type": "markdown",
      "metadata": {
        "id": "pRIt6MZRrOHU"
      },
      "source": [
        "# weighted rating\n",
        "### 상품 선호/평점 측도: 판매수량\n",
        "### 조회수가 선호/평점 측도라는 근거: 조회수\n",
        "#### 판매수량과 조회수 heatmap 상관계수 EDA 결과 제시\n",
        "#### r: 개별 영화 평점 -> 개별 상품 판매수량\n",
        "#### v: 개별 영화 평점 투표수 -> 개별 상품 조회수\n",
        "#### m: 500위에 들어야 하는 최소 투표 수 -> 500위에 들어야 하는 최소 조회수\n",
        "#### c:  전체 영화 평균 평점 -> 전체 상품 평균 판매수량"
      ]
    },
    {
      "cell_type": "code",
      "metadata": {
        "colab": {
          "base_uri": "https://localhost:8080/"
        },
        "id": "yTGVL6Fiq0qs",
        "outputId": "a74a12ca-18ba-4ea9-f6b3-4a285e2dede5"
      },
      "source": [
        "# 전체 상품 중 약 300위(약 상위10%)에 들려면 v는 상위 몇%여야 할까?\n",
        "m = contents[\"조회수\"].quantile(0.9)\n",
        "data = contents.loc[contents[\"조회수\"] >= m]\n",
        "data.describe\n",
        "# v는 90%일때 m은 314개"
      ],
      "execution_count": null,
      "outputs": [
        {
          "output_type": "execute_result",
          "data": {
            "text/plain": [
              "<bound method NDFrame.describe of             상품코드  ...                                               업체ID\n",
              "37    1587101982  ...  64f45d945a1ff30d8c1eeed085bdf30c551b26bb0de8b9...\n",
              "40    1589530054  ...  13fd756bafc34715f8c88ca1e09af5f55118684190cc24...\n",
              "41    1589530697  ...  13fd756bafc34715f8c88ca1e09af5f55118684190cc24...\n",
              "115   1607064822  ...  f404187bc45f73ce1a32c7d3cdda558aca9aa773a2000e...\n",
              "157   1584970099  ...  3e736b202d0723b960b471cd4aad470d38a4665ead176e...\n",
              "...          ...  ...                                                ...\n",
              "3017  1606200192  ...  2ec30b97c371763834305583f4d1709b2f81cfdf399cc5...\n",
              "3025  1606041387  ...  adfb799b3e5004f804b7b2ecf49e6204729d4bc135bb05...\n",
              "3039  1606453233  ...  e59659c7fe454bd1a268594ca949fa930d2afbdef3508c...\n",
              "3041  1601972061  ...  7cb370f95e9f40dc462a9d15aaf77af36eb19c94bc47c1...\n",
              "3128  1606296202  ...  860422ba909816eacec97a4f09042e53fe1b2b1af39df8...\n",
              "\n",
              "[314 rows x 11 columns]>"
            ]
          },
          "metadata": {
            "tags": []
          },
          "execution_count": 12
        }
      ]
    },
    {
      "cell_type": "code",
      "metadata": {
        "colab": {
          "base_uri": "https://localhost:8080/"
        },
        "id": "-xfCszSLtb8x",
        "outputId": "51cef8b8-ec06-4811-d55c-874f90b0570e"
      },
      "source": [
        "c = contents[\"판매수량\"].mean()\n",
        "v = contents[\"조회수\"]\n",
        "r = contents[\"판매수량\"]\n",
        "print(c, \"\", m, \"\", v, \"\", r)"
      ],
      "execution_count": null,
      "outputs": [
        {
          "output_type": "stream",
          "text": [
            "22.961649089165867  829.0  0          0\n",
            "1        130\n",
            "2        223\n",
            "3        141\n",
            "4        136\n",
            "        ... \n",
            "3124     186\n",
            "3125     105\n",
            "3126     194\n",
            "3127       3\n",
            "3128    3241\n",
            "Name: 조회수, Length: 3129, dtype: int64  0        0\n",
            "1        0\n",
            "2        1\n",
            "3        0\n",
            "4        0\n",
            "        ..\n",
            "3124     1\n",
            "3125     0\n",
            "3126    45\n",
            "3127     0\n",
            "3128    26\n",
            "Name: 판매수량, Length: 3129, dtype: int64\n"
          ],
          "name": "stdout"
        }
      ]
    },
    {
      "cell_type": "code",
      "metadata": {
        "colab": {
          "base_uri": "https://localhost:8080/"
        },
        "id": "7Ldb-5LHuJuz",
        "outputId": "c6008548-a3a3-46aa-ce69-507d22d6e1d9"
      },
      "source": [
        "# weighted rating 식 적용\n",
        "result = (v / (v+m) * r) + (m / (m+v) * c)\n",
        "print(result)"
      ],
      "execution_count": null,
      "outputs": [
        {
          "output_type": "stream",
          "text": [
            "0       22.961649\n",
            "1       19.849017\n",
            "2       18.306281\n",
            "3       19.623925\n",
            "4       19.725603\n",
            "          ...    \n",
            "3124    18.937150\n",
            "3125    20.380307\n",
            "3126    27.140965\n",
            "3127    22.878855\n",
            "3128    25.381132\n",
            "Length: 3129, dtype: float64\n"
          ],
          "name": "stdout"
        }
      ]
    },
    {
      "cell_type": "code",
      "metadata": {
        "colab": {
          "base_uri": "https://localhost:8080/",
          "height": 547
        },
        "id": "8N8kHv0V3Twj",
        "outputId": "597adee7-b8cf-4079-cc59-9236027f93f7"
      },
      "source": [
        "contents[\"선호도\"] = result\n",
        "contents"
      ],
      "execution_count": null,
      "outputs": [
        {
          "output_type": "execute_result",
          "data": {
            "text/html": [
              "<div>\n",
              "<style scoped>\n",
              "    .dataframe tbody tr th:only-of-type {\n",
              "        vertical-align: middle;\n",
              "    }\n",
              "\n",
              "    .dataframe tbody tr th {\n",
              "        vertical-align: top;\n",
              "    }\n",
              "\n",
              "    .dataframe thead th {\n",
              "        text-align: right;\n",
              "    }\n",
              "</style>\n",
              "<table border=\"1\" class=\"dataframe\">\n",
              "  <thead>\n",
              "    <tr style=\"text-align: right;\">\n",
              "      <th></th>\n",
              "      <th>상품코드</th>\n",
              "      <th>기본분류</th>\n",
              "      <th>분류명</th>\n",
              "      <th>상품유형</th>\n",
              "      <th>상품명</th>\n",
              "      <th>제조사</th>\n",
              "      <th>판매가격</th>\n",
              "      <th>기본배송비</th>\n",
              "      <th>조회수</th>\n",
              "      <th>판매수량</th>\n",
              "      <th>업체ID</th>\n",
              "      <th>선호도</th>\n",
              "    </tr>\n",
              "  </thead>\n",
              "  <tbody>\n",
              "    <tr>\n",
              "      <th>0</th>\n",
              "      <td>157092753</td>\n",
              "      <td>201030</td>\n",
              "      <td>곶감/반건시/감말랭이</td>\n",
              "      <td>NaN</td>\n",
              "      <td>[상주전통곶감] 전통곶감 건시 4kg(65~70과)</td>\n",
              "      <td>상주전통곶감</td>\n",
              "      <td>89000</td>\n",
              "      <td>0</td>\n",
              "      <td>0</td>\n",
              "      <td>0</td>\n",
              "      <td>d3f908bbea5d2d7cac866508dff9b2ffdf0088ab55d178...</td>\n",
              "      <td>22.961649</td>\n",
              "    </tr>\n",
              "    <tr>\n",
              "      <th>1</th>\n",
              "      <td>1578008979</td>\n",
              "      <td>201030</td>\n",
              "      <td>곶감/반건시/감말랭이</td>\n",
              "      <td>농산물</td>\n",
              "      <td>[구릿뜰농원] 건시3호 48구</td>\n",
              "      <td>구릿뜰농원</td>\n",
              "      <td>55000</td>\n",
              "      <td>4000</td>\n",
              "      <td>130</td>\n",
              "      <td>0</td>\n",
              "      <td>b4f5eabe0dd4a2502f409f9710682f72bbbc79de195121...</td>\n",
              "      <td>19.849017</td>\n",
              "    </tr>\n",
              "    <tr>\n",
              "      <th>2</th>\n",
              "      <td>1578031964</td>\n",
              "      <td>201030</td>\n",
              "      <td>곶감/반건시/감말랭이</td>\n",
              "      <td>농산물</td>\n",
              "      <td>[구릿뜰농원] 건시4호 36구</td>\n",
              "      <td>구릿뜰농원</td>\n",
              "      <td>45000</td>\n",
              "      <td>4000</td>\n",
              "      <td>223</td>\n",
              "      <td>1</td>\n",
              "      <td>b4f5eabe0dd4a2502f409f9710682f72bbbc79de195121...</td>\n",
              "      <td>18.306281</td>\n",
              "    </tr>\n",
              "    <tr>\n",
              "      <th>3</th>\n",
              "      <td>1578034429</td>\n",
              "      <td>201030</td>\n",
              "      <td>곶감/반건시/감말랭이</td>\n",
              "      <td>농산물</td>\n",
              "      <td>[구릿뜰농원] 건시 낱개 포장 30구</td>\n",
              "      <td>구릿뜰농원</td>\n",
              "      <td>40000</td>\n",
              "      <td>4000</td>\n",
              "      <td>141</td>\n",
              "      <td>0</td>\n",
              "      <td>b4f5eabe0dd4a2502f409f9710682f72bbbc79de195121...</td>\n",
              "      <td>19.623925</td>\n",
              "    </tr>\n",
              "    <tr>\n",
              "      <th>4</th>\n",
              "      <td>1578034546</td>\n",
              "      <td>201030</td>\n",
              "      <td>곶감/반건시/감말랭이</td>\n",
              "      <td>농산물</td>\n",
              "      <td>[구릿뜰농원] 건시 낱개 포장1호</td>\n",
              "      <td>구릿뜰농원</td>\n",
              "      <td>30000</td>\n",
              "      <td>4000</td>\n",
              "      <td>136</td>\n",
              "      <td>0</td>\n",
              "      <td>b4f5eabe0dd4a2502f409f9710682f72bbbc79de195121...</td>\n",
              "      <td>19.725603</td>\n",
              "    </tr>\n",
              "    <tr>\n",
              "      <th>...</th>\n",
              "      <td>...</td>\n",
              "      <td>...</td>\n",
              "      <td>...</td>\n",
              "      <td>...</td>\n",
              "      <td>...</td>\n",
              "      <td>...</td>\n",
              "      <td>...</td>\n",
              "      <td>...</td>\n",
              "      <td>...</td>\n",
              "      <td>...</td>\n",
              "      <td>...</td>\n",
              "      <td>...</td>\n",
              "    </tr>\n",
              "    <tr>\n",
              "      <th>3124</th>\n",
              "      <td>1604998092</td>\n",
              "      <td>80</td>\n",
              "      <td>김치/장류/참기름</td>\n",
              "      <td>가공식품</td>\n",
              "      <td>바른간장 1.8L</td>\n",
              "      <td>바른된장</td>\n",
              "      <td>24000</td>\n",
              "      <td>3000</td>\n",
              "      <td>186</td>\n",
              "      <td>1</td>\n",
              "      <td>926268d8bc66615558bacbd42caa33ac24a0d0c7d032fd...</td>\n",
              "      <td>18.937150</td>\n",
              "    </tr>\n",
              "    <tr>\n",
              "      <th>3125</th>\n",
              "      <td>1606396480</td>\n",
              "      <td>80</td>\n",
              "      <td>김치/장류/참기름</td>\n",
              "      <td>가공식품</td>\n",
              "      <td>두레원무염청국장 1kg</td>\n",
              "      <td>두레원식품</td>\n",
              "      <td>13000</td>\n",
              "      <td>3500</td>\n",
              "      <td>105</td>\n",
              "      <td>0</td>\n",
              "      <td>a279427a10453ba64bc3ff604c06d63769647b4df7a5d5...</td>\n",
              "      <td>20.380307</td>\n",
              "    </tr>\n",
              "    <tr>\n",
              "      <th>3126</th>\n",
              "      <td>1606924853</td>\n",
              "      <td>80</td>\n",
              "      <td>김치/장류/참기름</td>\n",
              "      <td>가공식품</td>\n",
              "      <td>두레원무염청국장 200g</td>\n",
              "      <td>두레원식품</td>\n",
              "      <td>3200</td>\n",
              "      <td>3500</td>\n",
              "      <td>194</td>\n",
              "      <td>45</td>\n",
              "      <td>a279427a10453ba64bc3ff604c06d63769647b4df7a5d5...</td>\n",
              "      <td>27.140965</td>\n",
              "    </tr>\n",
              "    <tr>\n",
              "      <th>3127</th>\n",
              "      <td>1606196135</td>\n",
              "      <td>b040</td>\n",
              "      <td>침구류</td>\n",
              "      <td>공산품</td>\n",
              "      <td>[풍기인견 아이싱] 사각 끈 메밀베개</td>\n",
              "      <td>풍기인견 아이싱</td>\n",
              "      <td>23000</td>\n",
              "      <td>0</td>\n",
              "      <td>3</td>\n",
              "      <td>0</td>\n",
              "      <td>1e5162a3dd797424426992b764688a7e7759b85a2597d9...</td>\n",
              "      <td>22.878855</td>\n",
              "    </tr>\n",
              "    <tr>\n",
              "      <th>3128</th>\n",
              "      <td>1606296202</td>\n",
              "      <td>e0</td>\n",
              "      <td>이전_농가체험</td>\n",
              "      <td>NaN</td>\n",
              "      <td>★제550수요특가★ 꿀고구마 상 10킬로 영주 농가 직접배송! [하늘기둥농장]</td>\n",
              "      <td>하늘기둥농장</td>\n",
              "      <td>43000</td>\n",
              "      <td>4000</td>\n",
              "      <td>3241</td>\n",
              "      <td>26</td>\n",
              "      <td>860422ba909816eacec97a4f09042e53fe1b2b1af39df8...</td>\n",
              "      <td>25.381132</td>\n",
              "    </tr>\n",
              "  </tbody>\n",
              "</table>\n",
              "<p>3129 rows × 12 columns</p>\n",
              "</div>"
            ],
            "text/plain": [
              "            상품코드  ...        선호도\n",
              "0      157092753  ...  22.961649\n",
              "1     1578008979  ...  19.849017\n",
              "2     1578031964  ...  18.306281\n",
              "3     1578034429  ...  19.623925\n",
              "4     1578034546  ...  19.725603\n",
              "...          ...  ...        ...\n",
              "3124  1604998092  ...  18.937150\n",
              "3125  1606396480  ...  20.380307\n",
              "3126  1606924853  ...  27.140965\n",
              "3127  1606196135  ...  22.878855\n",
              "3128  1606296202  ...  25.381132\n",
              "\n",
              "[3129 rows x 12 columns]"
            ]
          },
          "metadata": {
            "tags": []
          },
          "execution_count": 15
        }
      ]
    },
    {
      "cell_type": "markdown",
      "metadata": {
        "id": "qoW5pqvJvmWP"
      },
      "source": [
        "# Content Based Filtering\n",
        "#### 상품 간의 유사도는 상품유형, 제조사, 업체ID\n"
      ]
    },
    {
      "cell_type": "markdown",
      "metadata": {
        "id": "aKqUZi-9-Df1"
      },
      "source": [
        "### sklearn의 CountVetorizer를 이용해 분류명, 제조사, 업체ID (띄어쓰기를 구분자로 한 문자열) -> 숫자 벡터화\n"
      ]
    },
    {
      "cell_type": "code",
      "metadata": {
        "colab": {
          "base_uri": "https://localhost:8080/"
        },
        "id": "7JcTjdr_3-dI",
        "outputId": "eb7db0b5-5b4a-4854-db6a-1e3701079612"
      },
      "source": [
        "contents[\"분류명\"].head()"
      ],
      "execution_count": null,
      "outputs": [
        {
          "output_type": "execute_result",
          "data": {
            "text/plain": [
              "0    곶감/반건시/감말랭이\n",
              "1    곶감/반건시/감말랭이\n",
              "2    곶감/반건시/감말랭이\n",
              "3    곶감/반건시/감말랭이\n",
              "4    곶감/반건시/감말랭이\n",
              "Name: 분류명, dtype: object"
            ]
          },
          "metadata": {
            "tags": []
          },
          "execution_count": 16
        }
      ]
    },
    {
      "cell_type": "code",
      "metadata": {
        "colab": {
          "base_uri": "https://localhost:8080/"
        },
        "id": "DDwDIJMivG5h",
        "outputId": "5e8835a6-f568-4c5b-80c9-b03d1864fd23"
      },
      "source": [
        "from sklearn.feature_extraction.text import CountVectorizer\n",
        "count_vector = CountVectorizer(ngram_range=(1,3))\n",
        "\n",
        "c_vector_category = count_vector.fit_transform(contents[\"분류명\"])\n",
        "c_vector_category.shape"
      ],
      "execution_count": null,
      "outputs": [
        {
          "output_type": "execute_result",
          "data": {
            "text/plain": [
              "(3129, 201)"
            ]
          },
          "metadata": {
            "tags": []
          },
          "execution_count": 17
        }
      ]
    },
    {
      "cell_type": "markdown",
      "metadata": {
        "id": "_3vOCA3B5Orn"
      },
      "source": [
        "#### sklearn의 cosine similarity를 이용해 코사인 유사도 측정\n",
        "#### 코사인 유사도를 구함과 동시에, argsort로 유사도가 '가장 높은 인덱스'를 가장 위쪽으로 정렬\n"
      ]
    },
    {
      "cell_type": "code",
      "metadata": {
        "id": "gbovIPOC4Eg6"
      },
      "source": [
        "from sklearn.metrics.pairwise import cosine_similarity\n",
        "\n",
        "# 코사인 유사도를 구한 벡터를 미리 저장\n",
        "category_c_sim = cosine_similarity(c_vector_category, c_vector_category).argsort()[:, ::-1]"
      ],
      "execution_count": null,
      "outputs": []
    },
    {
      "cell_type": "code",
      "metadata": {
        "colab": {
          "base_uri": "https://localhost:8080/"
        },
        "id": "eHmhqSWM5fjJ",
        "outputId": "bc007dc4-4030-4f28-f65c-0b67d499885e"
      },
      "source": [
        "category_c_sim.shape"
      ],
      "execution_count": null,
      "outputs": [
        {
          "output_type": "execute_result",
          "data": {
            "text/plain": [
              "(3129, 3129)"
            ]
          },
          "metadata": {
            "tags": []
          },
          "execution_count": 19
        }
      ]
    },
    {
      "cell_type": "markdown",
      "metadata": {
        "id": "wZtYBzsv5rw8"
      },
      "source": [
        "#### 입력 받은 상품명을 기반으로, 상품과 유사한 다른 상품을 추천하는 함수"
      ]
    },
    {
      "cell_type": "code",
      "metadata": {
        "id": "6HYv8BSx5pG8"
      },
      "source": [
        "def get_recommend_merchandise_list(df, merc_name, top):\n",
        "\n",
        "    # 특정 상품과 비슷한 상품을 추천해야 하므로, '특정 상품' 정보 추출\n",
        "    target_merc_index = df[df[\"상품명\"] == merc_name].index.values\n",
        "\n",
        "    # 코사인 유사도 중 비슷한 코사인 유사도를 가진 정보 추출\n",
        "    sim_index = category_c_sim[target_merc_index, :top].reshape(-1)\n",
        "    # 자기 자신을 제외\n",
        "    sim_index = sim_index[sim_index != target_merc_index]\n",
        "\n",
        "    # data frame으로 만들고, '선호도'로 정렬한 뒤 return\n",
        "    result = df.iloc[sim_index].sort_values('선호도', ascending=False)[:top]\n",
        "    return result"
      ],
      "execution_count": null,
      "outputs": []
    },
    {
      "cell_type": "code",
      "metadata": {
        "colab": {
          "base_uri": "https://localhost:8080/",
          "height": 202
        },
        "id": "t8DgKFpK7Byr",
        "outputId": "92134b4e-4d77-4036-8086-985b10b33d87"
      },
      "source": [
        "# 임의의 상품명\n",
        "merc_name = \"[구릿뜰농원] 건시5호 24구\"\n",
        "top = 5\n",
        "\n",
        "get_recommend_merchandise_list(contents, merc_name, top)\n",
        "# 분류명을 기준으로, 위 상품과 유사한 상품 5개를 추천"
      ],
      "execution_count": null,
      "outputs": [
        {
          "output_type": "execute_result",
          "data": {
            "text/html": [
              "<div>\n",
              "<style scoped>\n",
              "    .dataframe tbody tr th:only-of-type {\n",
              "        vertical-align: middle;\n",
              "    }\n",
              "\n",
              "    .dataframe tbody tr th {\n",
              "        vertical-align: top;\n",
              "    }\n",
              "\n",
              "    .dataframe thead th {\n",
              "        text-align: right;\n",
              "    }\n",
              "</style>\n",
              "<table border=\"1\" class=\"dataframe\">\n",
              "  <thead>\n",
              "    <tr style=\"text-align: right;\">\n",
              "      <th></th>\n",
              "      <th>상품코드</th>\n",
              "      <th>기본분류</th>\n",
              "      <th>분류명</th>\n",
              "      <th>상품유형</th>\n",
              "      <th>상품명</th>\n",
              "      <th>제조사</th>\n",
              "      <th>판매가격</th>\n",
              "      <th>기본배송비</th>\n",
              "      <th>조회수</th>\n",
              "      <th>판매수량</th>\n",
              "      <th>업체ID</th>\n",
              "      <th>선호도</th>\n",
              "    </tr>\n",
              "  </thead>\n",
              "  <tbody>\n",
              "    <tr>\n",
              "      <th>0</th>\n",
              "      <td>157092753</td>\n",
              "      <td>201030</td>\n",
              "      <td>곶감/반건시/감말랭이</td>\n",
              "      <td>NaN</td>\n",
              "      <td>[상주전통곶감] 전통곶감 건시 4kg(65~70과)</td>\n",
              "      <td>상주전통곶감</td>\n",
              "      <td>89000</td>\n",
              "      <td>0</td>\n",
              "      <td>0</td>\n",
              "      <td>0</td>\n",
              "      <td>d3f908bbea5d2d7cac866508dff9b2ffdf0088ab55d178...</td>\n",
              "      <td>22.961649</td>\n",
              "    </tr>\n",
              "    <tr>\n",
              "      <th>85</th>\n",
              "      <td>1600253088</td>\n",
              "      <td>201030</td>\n",
              "      <td>곶감/반건시/감말랭이</td>\n",
              "      <td>NaN</td>\n",
              "      <td>★한가위할인판매★ 구릿뜰곶감 반건시2호(3.2kg40개)</td>\n",
              "      <td>구릿뜰농원</td>\n",
              "      <td>50000</td>\n",
              "      <td>3000</td>\n",
              "      <td>130</td>\n",
              "      <td>0</td>\n",
              "      <td>b4f5eabe0dd4a2502f409f9710682f72bbbc79de195121...</td>\n",
              "      <td>19.849017</td>\n",
              "    </tr>\n",
              "    <tr>\n",
              "      <th>83</th>\n",
              "      <td>1600043466</td>\n",
              "      <td>201030</td>\n",
              "      <td>곶감/반건시/감말랭이</td>\n",
              "      <td>농산물</td>\n",
              "      <td>★이웃사촌★ [선물용]서리골햇곶감(1KG 20과~24과)</td>\n",
              "      <td>내서 서리골마을</td>\n",
              "      <td>25500</td>\n",
              "      <td>4000</td>\n",
              "      <td>577</td>\n",
              "      <td>13</td>\n",
              "      <td>5f90d34c68fb01f90df340c684d12fdb25346c06af0853...</td>\n",
              "      <td>18.873547</td>\n",
              "    </tr>\n",
              "    <tr>\n",
              "      <th>84</th>\n",
              "      <td>1600129353</td>\n",
              "      <td>201030</td>\n",
              "      <td>곶감/반건시/감말랭이</td>\n",
              "      <td>농산물</td>\n",
              "      <td>프리미엄 개별건시 1호</td>\n",
              "      <td>상주한시곶감</td>\n",
              "      <td>50000</td>\n",
              "      <td>0</td>\n",
              "      <td>182</td>\n",
              "      <td>0</td>\n",
              "      <td>867288f154a3d1d3e3aa90236e341a3f82b7f69050d9fd...</td>\n",
              "      <td>18.828098</td>\n",
              "    </tr>\n",
              "    <tr>\n",
              "      <th>73</th>\n",
              "      <td>1599056687</td>\n",
              "      <td>201030</td>\n",
              "      <td>곶감/반건시/감말랭이</td>\n",
              "      <td>농산물</td>\n",
              "      <td>[상주아람곶감]상주곶감 오동선물세트(50g 48개)</td>\n",
              "      <td>상주아람곶감농장</td>\n",
              "      <td>90000</td>\n",
              "      <td>0</td>\n",
              "      <td>248</td>\n",
              "      <td>0</td>\n",
              "      <td>a37d03f03447c79d311ac6caa770bbdebc75fc55d04f7b...</td>\n",
              "      <td>17.674287</td>\n",
              "    </tr>\n",
              "  </tbody>\n",
              "</table>\n",
              "</div>"
            ],
            "text/plain": [
              "          상품코드  ...        선호도\n",
              "0    157092753  ...  22.961649\n",
              "85  1600253088  ...  19.849017\n",
              "83  1600043466  ...  18.873547\n",
              "84  1600129353  ...  18.828098\n",
              "73  1599056687  ...  17.674287\n",
              "\n",
              "[5 rows x 12 columns]"
            ]
          },
          "metadata": {
            "tags": []
          },
          "execution_count": 25
        }
      ]
    },
    {
      "cell_type": "markdown",
      "metadata": {
        "id": "3cvHOSAr7i1D"
      },
      "source": [
        "#### 분류명 외에도 '제조사'와 '업체ID'를 기준으로 콘텐츠 기반 필터링을 이용한 추천 시스템을 구현할 수도 있을듯\n",
        "#### 상품에 관한 이용자들의 ;선호도;를 임의로 상품의 '조회수'와 '판매수량' 칼럼을 이용해 구했으나, 보다 다양하고, 정확한 맞춤형 추천 기능을 위해서 상품마다 이용자들의 **평점 데이터**를 확보하는 것을 권장함\n"
      ]
    }
  ]
}