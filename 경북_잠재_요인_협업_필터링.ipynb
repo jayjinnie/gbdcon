{
  "nbformat": 4,
  "nbformat_minor": 0,
  "metadata": {
    "colab": {
      "name": "경북_잠재 요인 협업 필터링.ipynb",
      "provenance": [],
      "include_colab_link": true
    },
    "kernelspec": {
      "name": "python3",
      "display_name": "Python 3"
    },
    "language_info": {
      "name": "python"
    }
  },
  "cells": [
    {
      "cell_type": "markdown",
      "metadata": {
        "id": "view-in-github",
        "colab_type": "text"
      },
      "source": [
        "<a href=\"https://colab.research.google.com/github/jayjinnie/gbdcon/blob/main/%EA%B2%BD%EB%B6%81_%EC%9E%A0%EC%9E%AC_%EC%9A%94%EC%9D%B8_%ED%98%91%EC%97%85_%ED%95%84%ED%84%B0%EB%A7%81.ipynb\" target=\"_parent\"><img src=\"https://colab.research.google.com/assets/colab-badge.svg\" alt=\"Open In Colab\"/></a>"
      ]
    },
    {
      "cell_type": "markdown",
      "metadata": {
        "id": "bVKsnZbQOHoZ"
      },
      "source": [
        "# 잠재 요인 협업 필터링 (Latent Factor Collaborative Filtering)\n",
        "#### 행렬 분해(Matrix Factorization)를 기반으로 잠재 요인을 추출하여 추출된 잠재 요인을 기반으로 상품을 추천함"
      ]
    },
    {
      "cell_type": "markdown",
      "metadata": {
        "id": "cjrTKomAOb3U"
      },
      "source": [
        "# 필요한 데이터\n",
        "#### customer_id: 회원번호\n",
        "#### merc_name: 상품명\n",
        "#### rating: 선호도\n"
      ]
    },
    {
      "cell_type": "code",
      "metadata": {
        "colab": {
          "base_uri": "https://localhost:8080/",
          "height": 200
        },
        "id": "d0D_qiB-8Vfc",
        "outputId": "2f18f2f2-4eda-4608-bdfc-00a3d0f35a6e"
      },
      "source": [
        "import pandas as pd\n",
        "\n",
        "data = pd.read_excel(\"선호도 테이블.xlsx\")\n",
        "data.head()"
      ],
      "execution_count": 1,
      "outputs": [
        {
          "output_type": "execute_result",
          "data": {
            "text/html": [
              "<div>\n",
              "<style scoped>\n",
              "    .dataframe tbody tr th:only-of-type {\n",
              "        vertical-align: middle;\n",
              "    }\n",
              "\n",
              "    .dataframe tbody tr th {\n",
              "        vertical-align: top;\n",
              "    }\n",
              "\n",
              "    .dataframe thead th {\n",
              "        text-align: right;\n",
              "    }\n",
              "</style>\n",
              "<table border=\"1\" class=\"dataframe\">\n",
              "  <thead>\n",
              "    <tr style=\"text-align: right;\">\n",
              "      <th></th>\n",
              "      <th>회원번호</th>\n",
              "      <th>상품명</th>\n",
              "      <th>선호도</th>\n",
              "    </tr>\n",
              "  </thead>\n",
              "  <tbody>\n",
              "    <tr>\n",
              "      <th>0</th>\n",
              "      <td>1</td>\n",
              "      <td>무농약 연근 쓱결제용</td>\n",
              "      <td>18.680282</td>\n",
              "    </tr>\n",
              "    <tr>\n",
              "      <th>1</th>\n",
              "      <td>1</td>\n",
              "      <td>★이웃사촌★ [성주로컬푸드]고소애500g</td>\n",
              "      <td>20.818027</td>\n",
              "    </tr>\n",
              "    <tr>\n",
              "      <th>2</th>\n",
              "      <td>1</td>\n",
              "      <td>★이웃사촌★ [성주로컬푸드]고소애500g</td>\n",
              "      <td>20.818027</td>\n",
              "    </tr>\n",
              "    <tr>\n",
              "      <th>3</th>\n",
              "      <td>1</td>\n",
              "      <td>[오세창곤충체험농장]파워뱅이분말 180g</td>\n",
              "      <td>18.806200</td>\n",
              "    </tr>\n",
              "    <tr>\n",
              "      <th>4</th>\n",
              "      <td>158993</td>\n",
              "      <td>[오세창곤충체험농장]파워뱅이분말 180g</td>\n",
              "      <td>18.806200</td>\n",
              "    </tr>\n",
              "  </tbody>\n",
              "</table>\n",
              "</div>"
            ],
            "text/plain": [
              "     회원번호                     상품명        선호도\n",
              "0       1             무농약 연근 쓱결제용  18.680282\n",
              "1       1  ★이웃사촌★ [성주로컬푸드]고소애500g  20.818027\n",
              "2       1  ★이웃사촌★ [성주로컬푸드]고소애500g  20.818027\n",
              "3       1  [오세창곤충체험농장]파워뱅이분말 180g  18.806200\n",
              "4  158993  [오세창곤충체험농장]파워뱅이분말 180g  18.806200"
            ]
          },
          "metadata": {
            "tags": []
          },
          "execution_count": 1
        }
      ]
    },
    {
      "cell_type": "markdown",
      "metadata": {
        "id": "_-msxqy6Q_1A"
      },
      "source": [
        "# pivot 테이블 만들기\n",
        "#### 고객-상품 선호도 데이터 pivot 테이블 생성\n",
        "#### fillna로 NaN 값 채워주기"
      ]
    },
    {
      "cell_type": "code",
      "metadata": {
        "id": "z-JJ2sClQqVw"
      },
      "source": [
        "customer_merc_rating = data.pivot_table('선호도', index='회원번호', columns='상품명').fillna(0)\n",
        "customer_merc_rating.shape"
      ],
      "execution_count": null,
      "outputs": []
    },
    {
      "cell_type": "code",
      "metadata": {
        "id": "ko6cEKnUROfQ"
      },
      "source": [
        "customer_merc_rating.head()"
      ],
      "execution_count": null,
      "outputs": []
    },
    {
      "cell_type": "markdown",
      "metadata": {
        "id": "7gSxPfYGRaIU"
      },
      "source": [
        "# 특정 상품과 유사한 상품을 추천\n",
        "#### 따라서 고객-상품 테이블을 상품-고객 테이블로 전치 (transpose)"
      ]
    },
    {
      "cell_type": "code",
      "metadata": {
        "id": "tTkExVdpRQHz"
      },
      "source": [
        "merc_customer_rating = customer_merc_rating.values.T\n",
        "merc_customer_rating.shape"
      ],
      "execution_count": null,
      "outputs": []
    },
    {
      "cell_type": "markdown",
      "metadata": {
        "id": "CktbQeC1RwXK"
      },
      "source": [
        "# SVD (Singular Value Decomposition) \n",
        "#### 특이값 분해를 통해 유사한 데이터, 잠재 요인 추출"
      ]
    },
    {
      "cell_type": "code",
      "metadata": {
        "id": "rWjATIY8Rta0"
      },
      "source": [
        "import numpy as np\n",
        "from sklearn.decomposition import TruncatedSVD\n",
        "\n",
        "# 5개의 주요 feature를 가진 행렬로 데이터 세트 변환\n",
        "SVD = TruncatedSVD(n_components=5)\n",
        "matrix = SVD.fit_transform(merc_customer_rating)\n",
        "matrix.shape"
      ],
      "execution_count": null,
      "outputs": []
    },
    {
      "cell_type": "code",
      "metadata": {
        "id": "y-DPLOZNSovf"
      },
      "source": [
        "matrix[0]"
      ],
      "execution_count": null,
      "outputs": []
    },
    {
      "cell_type": "markdown",
      "metadata": {
        "id": "hUqao8AJS0nd"
      },
      "source": [
        "#### 1261개의 상품 데이터가 5개의 어떠한 요소의 값을 가지게 됨\n",
        "#### 추출된 데이터끼리의 피어슨 상관계수 구하기"
      ]
    },
    {
      "cell_type": "code",
      "metadata": {
        "id": "s08iNhN-Sx2V"
      },
      "source": [
        "corr = np.corrcoef(matrix)\n",
        "corr.shape"
      ],
      "execution_count": null,
      "outputs": []
    },
    {
      "cell_type": "code",
      "metadata": {
        "id": "CBkqruwMTCsa"
      },
      "source": [
        "import seaborn as sns\n",
        "import matplotlib.pyplot as plt\n",
        "\n",
        "plt.figure(figsize=(12,10))\n",
        "sns.heatmap(corr, cmap=\"PuBu\", annot = False)"
      ],
      "execution_count": null,
      "outputs": []
    },
    {
      "cell_type": "code",
      "metadata": {
        "id": "l2ciL0CRTb5o"
      },
      "source": [
        "# 상관계수를 이용하여 특정 상품과 상관계수가 높은 다른 상품 추출\n",
        "merc_name = customer_merc_rating.columns\n",
        "merc_name_list = list(merc_name)\n",
        "temp_data = merc_name_list.index(\"피크닉사과 가정용 흠과 10kg\")"
      ],
      "execution_count": null,
      "outputs": []
    },
    {
      "cell_type": "code",
      "metadata": {
        "id": "kxI7tbOLUACu"
      },
      "source": [
        "corr_temp_data = corr[temp_data]\n",
        "list(merc_name[(corr_temp_data >= 0.9)])[:50]"
      ],
      "execution_count": null,
      "outputs": []
    },
    {
      "cell_type": "markdown",
      "metadata": {
        "id": "KplGqSt6VEgl"
      },
      "source": [
        "### 추출한 잠재 요인을 기반으로 특정 상품과 유사한 상품을 추천해주는 시스템\n",
        "### 그러나 고객의 구매 이력을 고려하지 않으므로 고객에게 맞춤형으로 추천하기에는 한계가 있음"
      ]
    }
  ]
}